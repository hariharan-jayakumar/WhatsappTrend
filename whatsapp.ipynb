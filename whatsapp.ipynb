{
  "nbformat": 4,
  "nbformat_minor": 0,
  "metadata": {
    "colab": {
      "name": "whatsapp.ipynb",
      "provenance": [],
      "authorship_tag": "ABX9TyPAqWczqy/w2ox9OWdiT0a4",
      "include_colab_link": true
    },
    "kernelspec": {
      "name": "python3",
      "display_name": "Python 3"
    }
  },
  "cells": [
    {
      "cell_type": "markdown",
      "metadata": {
        "id": "view-in-github",
        "colab_type": "text"
      },
      "source": [
        "<a href=\"https://colab.research.google.com/github/hariharan-jayakumar/WhatsappTrend/blob/main/whatsapp.ipynb\" target=\"_parent\"><img src=\"https://colab.research.google.com/assets/colab-badge.svg\" alt=\"Open In Colab\"/></a>"
      ]
    },
    {
      "cell_type": "code",
      "metadata": {
        "id": "mMvGwqG8dcws"
      },
      "source": [
        "import re\r\n",
        "import pandas as pd"
      ],
      "execution_count": 67,
      "outputs": []
    },
    {
      "cell_type": "code",
      "metadata": {
        "id": "SDWmpr2bd7Le"
      },
      "source": [
        "users = {}"
      ],
      "execution_count": 57,
      "outputs": []
    },
    {
      "cell_type": "code",
      "metadata": {
        "id": "6BvIglVbdzrw"
      },
      "source": [
        "chat = open('chat.txt')\r\n",
        "prevdate = ''\r\n",
        "for line in chat:\r\n",
        "    linesplit = line.split('-')\r\n",
        "    datetime = linesplit[0]\r\n",
        "    date = datetime.split(',')\r\n",
        "    if len(date)<2:\r\n",
        "        continue\r\n",
        "\r\n",
        "    date = date[0]\r\n",
        "    if date!=prevdate:\r\n",
        "        print(date)\r\n",
        "        prevdate = date\r\n",
        "    if len(linesplit)>1:\r\n",
        "        #print(line)\r\n",
        "        namesplit = linesplit[1].split(':')\r\n",
        "\r\n",
        "        if len(namesplit)>1:\r\n",
        "            name = namesplit[0].strip()\r\n",
        "            if name not in users:\r\n",
        "                users[name] = 1\r\n",
        "            else:\r\n",
        "                users[name] += 1"
      ],
      "execution_count": null,
      "outputs": []
    },
    {
      "cell_type": "code",
      "metadata": {
        "colab": {
          "base_uri": "https://localhost:8080/"
        },
        "id": "Aieg1SIMeELf",
        "outputId": "ed3c95ad-18e1-447e-b774-b9ba2c30723e"
      },
      "source": [
        "final_users"
      ],
      "execution_count": 59,
      "outputs": [
        {
          "output_type": "execute_result",
          "data": {
            "text/plain": [
              "{'+91 82480 60005': 17,\n",
              " '+91 98423 70288': 16,\n",
              " 'Aditya': 6900,\n",
              " 'Akshaiy': 1185,\n",
              " 'Aravind': 96,\n",
              " 'BVK': 1792,\n",
              " 'Balaji': 1632,\n",
              " 'Dhanraj': 705,\n",
              " 'Dharun': 755,\n",
              " 'Esun': 587,\n",
              " 'G Harish': 891,\n",
              " 'Goutham Vignesh': 636,\n",
              " 'Hariharan Jayakumar': 2804,\n",
              " 'Kannan': 183,\n",
              " 'Keerthini': 24,\n",
              " 'Keshav': 2504,\n",
              " 'Kill Switch': 14,\n",
              " 'Lal Vasanth Rupan': 1066,\n",
              " 'Madhan': 2739,\n",
              " 'Madhav': 119,\n",
              " 'Nikhil ICE': 1846,\n",
              " 'Rakesh': 1789,\n",
              " 'Surendar': 521}"
            ]
          },
          "metadata": {
            "tags": []
          },
          "execution_count": 59
        }
      ]
    },
    {
      "cell_type": "code",
      "metadata": {
        "colab": {
          "base_uri": "https://localhost:8080/"
        },
        "id": "Eq6AI-SYfqmP",
        "outputId": "cb5bfc6a-f253-4d57-f29c-2e41f8852c56"
      },
      "source": [
        "users"
      ],
      "execution_count": 65,
      "outputs": [
        {
          "output_type": "execute_result",
          "data": {
            "text/plain": [
              "{'+91 82480 60005': 85,\n",
              " '+91 88700 14870': 25,\n",
              " '+91 98423 70288': 80,\n",
              " 'Aditya': 34500,\n",
              " 'Akshaiy': 5925,\n",
              " 'Aravind': 480,\n",
              " 'BVK': 8960,\n",
              " 'Balaji': 8160,\n",
              " 'Dhanraj': 3525,\n",
              " 'Dharun': 3775,\n",
              " 'Esun': 2935,\n",
              " 'G Harish': 4455,\n",
              " 'Goutham Vignesh': 3180,\n",
              " 'Hariharan Jayakumar': 14020,\n",
              " 'Kannan': 915,\n",
              " 'Keerthini': 120,\n",
              " 'Keshav': 12520,\n",
              " 'Kill Switch': 70,\n",
              " 'Lal Vasanth Rupan': 5330,\n",
              " 'Madhan': 13695,\n",
              " 'Madhav': 595,\n",
              " 'Nikhil ICE': 9230,\n",
              " 'Praveen Muthukrishnan': 5,\n",
              " 'Rakesh': 8945,\n",
              " 'Surendar': 2605}"
            ]
          },
          "metadata": {
            "tags": []
          },
          "execution_count": 65
        }
      ]
    },
    {
      "cell_type": "code",
      "metadata": {
        "id": "uGrpViTBk-KI"
      },
      "source": [
        ""
      ],
      "execution_count": null,
      "outputs": []
    }
  ]
}